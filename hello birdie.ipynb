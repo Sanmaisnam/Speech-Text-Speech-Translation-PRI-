{
 "cells": [
  {
   "cell_type": "markdown",
   "metadata": {},
   "source": [
    "# Speech Recognition"
   ]
  },
  {
   "cell_type": "code",
   "execution_count": 1,
   "metadata": {},
   "outputs": [],
   "source": [
    "import speech_recognition as sr\n",
    "import nltk"
   ]
  },
  {
   "cell_type": "code",
   "execution_count": 33,
   "metadata": {},
   "outputs": [
    {
     "name": "stdout",
     "output_type": "stream",
     "text": [
      "Speak Now\n",
      "India to France\n"
     ]
    }
   ],
   "source": [
    "r = sr.Recognizer()\n",
    "with sr.Microphone() as source:\n",
    "    print(\"Speak Now\")\n",
    "    audio = r.listen(source)\n",
    "    user_input = r.recognize_google(audio)\n",
    "    \n",
    "if 'hello caddie' or 'hey caddie' in user_input:\n",
    "    try:\n",
    "        print(user_input)\n",
    "    except:\n",
    "        print('error')\n"
   ]
  },
  {
   "cell_type": "code",
   "execution_count": 34,
   "metadata": {},
   "outputs": [],
   "source": [
    "from nltk.tokenize import word_tokenize"
   ]
  },
  {
   "cell_type": "code",
   "execution_count": 35,
   "metadata": {},
   "outputs": [
    {
     "name": "stdout",
     "output_type": "stream",
     "text": [
      "['India', 'to', 'France']\n"
     ]
    }
   ],
   "source": [
    "input_tokens = word_tokenize(user_input)\n",
    "print(input_tokens)"
   ]
  },
  {
   "cell_type": "markdown",
   "metadata": {},
   "source": [
    "# Find word count"
   ]
  },
  {
   "cell_type": "code",
   "execution_count": 36,
   "metadata": {},
   "outputs": [],
   "source": [
    "from nltk.probability import FreqDist\n",
    "fdist = FreqDist()"
   ]
  },
  {
   "cell_type": "code",
   "execution_count": 37,
   "metadata": {},
   "outputs": [
    {
     "data": {
      "text/plain": [
       "FreqDist({'india': 1, 'to': 1, 'france': 1})"
      ]
     },
     "execution_count": 37,
     "metadata": {},
     "output_type": "execute_result"
    }
   ],
   "source": [
    "for word in input_tokens:\n",
    "    fdist[word.lower()]+=1\n",
    "fdist"
   ]
  },
  {
   "cell_type": "markdown",
   "metadata": {},
   "source": [
    "# Stemming"
   ]
  },
  {
   "cell_type": "code",
   "execution_count": 38,
   "metadata": {},
   "outputs": [
    {
     "data": {
      "text/plain": [
       "'go going gone gave given'"
      ]
     },
     "execution_count": 38,
     "metadata": {},
     "output_type": "execute_result"
    }
   ],
   "source": [
    "from nltk.stem import PorterStemmer\n",
    "\n",
    "pst = PorterStemmer()\n",
    "\n",
    "pst.stem('go going gone gave given')"
   ]
  },
  {
   "cell_type": "code",
   "execution_count": 39,
   "metadata": {},
   "outputs": [
    {
     "data": {
      "text/plain": [
       "'india to fr'"
      ]
     },
     "execution_count": 39,
     "metadata": {},
     "output_type": "execute_result"
    }
   ],
   "source": [
    "pst.stem(user_input)"
   ]
  },
  {
   "cell_type": "code",
   "execution_count": 40,
   "metadata": {},
   "outputs": [],
   "source": [
    "from nltk.stem import wordnet\n",
    "\n",
    "from nltk.stem import WordNetLemmatizer\n",
    "word_lem = WordNetLemmatizer()"
   ]
  },
  {
   "cell_type": "code",
   "execution_count": null,
   "metadata": {},
   "outputs": [],
   "source": []
  },
  {
   "cell_type": "code",
   "execution_count": 41,
   "metadata": {},
   "outputs": [],
   "source": [
    "import re\n",
    "puncutation = re.compile(user_input)"
   ]
  },
  {
   "cell_type": "code",
   "execution_count": 42,
   "metadata": {},
   "outputs": [
    {
     "name": "stdout",
     "output_type": "stream",
     "text": [
      "[('India', 'NNP')]\n",
      "[('to', 'TO')]\n",
      "[('France', 'NNP')]\n"
     ]
    }
   ],
   "source": [
    "for token in input_tokens:\n",
    "    print(nltk.pos_tag([token]))"
   ]
  },
  {
   "cell_type": "markdown",
   "metadata": {},
   "source": [
    "### Remove stop words"
   ]
  },
  {
   "cell_type": "code",
   "execution_count": 43,
   "metadata": {},
   "outputs": [
    {
     "name": "stdout",
     "output_type": "stream",
     "text": [
      "{\"wouldn't\", 'isn', 'yourselves', 'but', 'such', 'before', 't', 'there', 'into', 're', \"mustn't\", 'yourself', 'because', 'haven', 'or', \"couldn't\", 'their', 'mustn', \"wasn't\", 'where', 'y', 'between', 'was', \"don't\", 'am', 'weren', 'the', 'under', 'down', 'having', 'on', 'nor', 'wasn', 'doing', 'these', 'until', \"won't\", 'further', 'each', 'not', 'of', 'some', 'while', 'just', 'out', \"shouldn't\", 'with', 'those', 'few', \"that'll\", 'other', 'own', 'hadn', 'than', 'me', 'so', 'he', 'in', 'at', 'myself', 'too', 'themselves', 'been', \"should've\", 'for', 'then', 'himself', 'are', 'her', 'can', \"haven't\", 'who', 'i', \"hasn't\", 'my', 'itself', 'only', \"you're\", 'herself', 'did', 'more', 'as', 'aren', 'below', 'whom', 'same', \"hadn't\", 'when', 'o', 'here', \"she's\", 'mightn', 'doesn', 'again', 'she', 'an', 'ours', 'do', 'm', 'will', 'why', 'ain', \"weren't\", 've', 'a', 'hasn', 'during', \"shan't\", 'our', 'll', 'they', 'had', \"mightn't\", 'wouldn', 'its', 'your', 'by', 'over', 'once', 'which', 'above', 'all', \"doesn't\", 'needn', 'couldn', \"needn't\", 'were', 'his', 'have', 'against', 'that', 'no', 'should', 'd', 'shouldn', 'about', 'through', 'has', 'and', 's', 'after', 'yours', \"didn't\", 'from', 'most', 'does', 'ma', 'now', 'hers', 'be', \"aren't\", 'didn', \"isn't\", \"you'll\", 'any', \"you'd\", \"you've\", 'off', 'this', 'we', 'it', 'up', 'is', 'shan', 'if', 'you', 'don', 'both', \"it's\", 'to', 'ourselves', 'what', 'him', 'how', 'them', 'being', 'very', 'won', 'theirs'}\n"
     ]
    }
   ],
   "source": [
    "from nltk.corpus import stopwords\n",
    "\n",
    "stopwords_set = set(stopwords.words('english'))\n",
    "print(stopwords_set)"
   ]
  },
  {
   "cell_type": "code",
   "execution_count": 44,
   "metadata": {},
   "outputs": [],
   "source": [
    "def remove_stopwords(tokenized_text):\n",
    "    text_clean = [word for word in tokenized_text if word not in stopwords_set]\n",
    "    return text_clean"
   ]
  },
  {
   "cell_type": "code",
   "execution_count": 45,
   "metadata": {},
   "outputs": [
    {
     "name": "stdout",
     "output_type": "stream",
     "text": [
      "['India', 'France']\n"
     ]
    }
   ],
   "source": [
    "print(remove_stopwords(input_tokens))"
   ]
  },
  {
   "cell_type": "markdown",
   "metadata": {},
   "source": [
    "# Name Entity Recognition"
   ]
  },
  {
   "cell_type": "code",
   "execution_count": 46,
   "metadata": {},
   "outputs": [],
   "source": [
    "from nltk import ne_chunk"
   ]
  },
  {
   "cell_type": "code",
   "execution_count": 47,
   "metadata": {},
   "outputs": [
    {
     "name": "stdout",
     "output_type": "stream",
     "text": [
      "(S (GPE India/NNP) to/TO (GPE France/NNP))\n"
     ]
    }
   ],
   "source": [
    "input_NER = ne_chunk(nltk.pos_tag(input_tokens))\n",
    "print(input_NER)"
   ]
  },
  {
   "cell_type": "markdown",
   "metadata": {},
   "source": [
    "# spaCY \n",
    "\n",
    "It has different models."
   ]
  },
  {
   "cell_type": "code",
   "execution_count": 48,
   "metadata": {},
   "outputs": [],
   "source": [
    "#pip install spacy\n",
    "\n",
    "#pip install https://github.com/explosion/spacy-models/releases/download/en_core_web_sm-2.2.0/en_core_web_sm-2.2.0.tar.gz"
   ]
  },
  {
   "cell_type": "code",
   "execution_count": 49,
   "metadata": {},
   "outputs": [],
   "source": [
    "import spacy"
   ]
  },
  {
   "cell_type": "code",
   "execution_count": 50,
   "metadata": {},
   "outputs": [],
   "source": [
    "nlp = spacy.load('en_core_web_sm')"
   ]
  },
  {
   "cell_type": "code",
   "execution_count": 51,
   "metadata": {},
   "outputs": [],
   "source": [
    "doc = nlp(user_input)"
   ]
  },
  {
   "cell_type": "markdown",
   "metadata": {},
   "source": [
    "### Tokenization"
   ]
  },
  {
   "cell_type": "code",
   "execution_count": 52,
   "metadata": {},
   "outputs": [
    {
     "name": "stdout",
     "output_type": "stream",
     "text": [
      "India\n",
      "to\n",
      "France\n"
     ]
    }
   ],
   "source": [
    "for token in doc:\n",
    "    print(token.text)"
   ]
  },
  {
   "cell_type": "code",
   "execution_count": 53,
   "metadata": {},
   "outputs": [
    {
     "data": {
      "text/plain": [
       "France"
      ]
     },
     "execution_count": 53,
     "metadata": {},
     "output_type": "execute_result"
    }
   ],
   "source": [
    "token = doc[2]\n",
    "token"
   ]
  },
  {
   "cell_type": "code",
   "execution_count": 54,
   "metadata": {},
   "outputs": [
    {
     "data": {
      "text/plain": [
       "France"
      ]
     },
     "execution_count": 54,
     "metadata": {},
     "output_type": "execute_result"
    }
   ],
   "source": [
    "span = doc[2:5]\n",
    "span"
   ]
  },
  {
   "cell_type": "code",
   "execution_count": 55,
   "metadata": {},
   "outputs": [
    {
     "name": "stdout",
     "output_type": "stream",
     "text": [
      "0 India\n",
      "1 to\n",
      "2 France\n"
     ]
    }
   ],
   "source": [
    "for token in doc:\n",
    "    print(token.i, token.text)"
   ]
  },
  {
   "cell_type": "markdown",
   "metadata": {},
   "source": [
    "# POS Tagging"
   ]
  },
  {
   "cell_type": "code",
   "execution_count": 56,
   "metadata": {},
   "outputs": [
    {
     "name": "stdout",
     "output_type": "stream",
     "text": [
      "0 India PROPN\n",
      "1 to ADP\n",
      "2 France PROPN\n"
     ]
    }
   ],
   "source": [
    "for token in doc:\n",
    "    print(token.i, token.text, token.pos_)"
   ]
  },
  {
   "cell_type": "markdown",
   "metadata": {},
   "source": [
    "# NER"
   ]
  },
  {
   "cell_type": "code",
   "execution_count": 57,
   "metadata": {},
   "outputs": [
    {
     "name": "stdout",
     "output_type": "stream",
     "text": [
      "India GPE\n",
      "France GPE\n",
      "['India', 'France']\n"
     ]
    }
   ],
   "source": [
    "locations=[]\n",
    "for ent in doc.ents:\n",
    "    print(ent.text, ent.label_)\n",
    "    if str(ent.label_) == 'GPE':\n",
    "        locations.append(ent.text)\n",
    "print(locations)"
   ]
  },
  {
   "cell_type": "markdown",
   "metadata": {},
   "source": [
    "# Calculate the distance"
   ]
  },
  {
   "cell_type": "code",
   "execution_count": 58,
   "metadata": {},
   "outputs": [],
   "source": [
    "#pip install geopy"
   ]
  },
  {
   "cell_type": "code",
   "execution_count": 59,
   "metadata": {},
   "outputs": [],
   "source": [
    "from geopy.geocoders import Nominatim\n",
    "from geopy.distance import distance"
   ]
  },
  {
   "cell_type": "code",
   "execution_count": 60,
   "metadata": {},
   "outputs": [],
   "source": [
    "def calculate_distance(point1, point2):\n",
    "    \n",
    "    geolocator = Nominatim(user_agent=\"Golf Caddie App\")\n",
    "    \n",
    "    location1 = geolocator.geocode(point1)\n",
    "    print(\"Point A: \", location1.address)\n",
    "    print(\"latitude is :-\" ,location1.latitude,\"\\nlongtitude is:-\" ,location1.longitude,\"\\n\")\n",
    "    location1_coord = location1.latitude, location1.longitude\n",
    "    \n",
    "    location2 = geolocator.geocode(point2)\n",
    "    print(\"Point B:\", location2.address)\n",
    "    print(\"latitude is :-\" ,location2.latitude,\"\\nlongtitude is:-\" ,location2.longitude,\"\\n\")\n",
    "    location2_coord = location2.latitude, location2.longitude\n",
    "    \n",
    "    d = distance(location1_coord, location2_coord)\n",
    "    \n",
    "    return d"
   ]
  },
  {
   "cell_type": "code",
   "execution_count": 61,
   "metadata": {},
   "outputs": [
    {
     "name": "stdout",
     "output_type": "stream",
     "text": [
      "India France\n",
      "Point A:  India\n",
      "latitude is :- 22.3511148 \n",
      "longtitude is:- 78.6677428 \n",
      "\n",
      "Point B: France\n",
      "latitude is :- 46.603354 \n",
      "longtitude is:- 1.8883335 \n",
      "\n",
      "7245.67339386197 km\n"
     ]
    }
   ],
   "source": [
    "print(locations[0], locations[1])\n",
    "calculated_distance = calculate_distance(locations[0] ,locations[1])\n",
    "\n",
    "print(calculated_distance)"
   ]
  },
  {
   "cell_type": "markdown",
   "metadata": {},
   "source": [
    "# Text to speech "
   ]
  },
  {
   "cell_type": "code",
   "execution_count": 62,
   "metadata": {},
   "outputs": [
    {
     "name": "stdout",
     "output_type": "stream",
     "text": [
      "7245 km(s)\n"
     ]
    }
   ],
   "source": [
    "#pip install gtts\n",
    "approx_distance = round(int(str(calculated_distance).split('.').pop(0)))\n",
    "print(str(approx_distance) +' km(s)')\n",
    "#"
   ]
  },
  {
   "cell_type": "code",
   "execution_count": 63,
   "metadata": {},
   "outputs": [],
   "source": [
    "from gtts import gTTS"
   ]
  },
  {
   "cell_type": "code",
   "execution_count": 64,
   "metadata": {},
   "outputs": [],
   "source": [
    "reply_message = 'The distance between ' + str(locations[0]) + ' and ' + str(locations[1]) + ' is ' + str(approx_distance) + (' kilometers')"
   ]
  },
  {
   "cell_type": "code",
   "execution_count": 65,
   "metadata": {},
   "outputs": [],
   "source": [
    "obj = gTTS(text=reply_message, lang = \"fr\" , slow = False)"
   ]
  },
  {
   "cell_type": "code",
   "execution_count": 66,
   "metadata": {},
   "outputs": [],
   "source": [
    "#pip install google-cloud-texttospeech"
   ]
  },
  {
   "cell_type": "code",
   "execution_count": 67,
   "metadata": {},
   "outputs": [],
   "source": [
    "from google.cloud import texttospeech\n",
    "import os"
   ]
  },
  {
   "cell_type": "code",
   "execution_count": 68,
   "metadata": {},
   "outputs": [],
   "source": [
    "def text_to_speech(text_message):\n",
    "    #set up authorization\n",
    "    os.environ['GOOGLE_APPLICATION_CREDENTIALS'] = r'/Users/priyamchadha/Desktop/Shubham/PRI/Hello Birdie/EPITA-PRI-6664052d2f22.json'\n",
    "\n",
    "    # Instantiates a client\n",
    "    client = texttospeech.TextToSpeechClient()\n",
    "\n",
    "    # Set the text input to be synthesized\n",
    "    synthesis_input = texttospeech.types.SynthesisInput(text=text_message)\n",
    "\n",
    "    # Build the voice request, select the language code (\"en-US\") and the ssml\n",
    "    # voice gender (\"neutral/MALE/FEMALE\")\n",
    "    voice = texttospeech.types.VoiceSelectionParams(\n",
    "        language_code='en-US',\n",
    "        ssml_gender=texttospeech.enums.SsmlVoiceGender.FEMALE)\n",
    "\n",
    "    # Select the type of audio file you want returned\n",
    "    audio_config = texttospeech.types.AudioConfig(\n",
    "        audio_encoding=texttospeech.enums.AudioEncoding.MP3)\n",
    "\n",
    "    # Perform the text-to-speech request on the text input with the selected\n",
    "    # voice parameters and audio file type\n",
    "    response = client.synthesize_speech(synthesis_input, voice, audio_config)\n",
    "\n",
    "    # The response's audio_content is binary.\n",
    "    with open('output.mp3', 'wb') as out:\n",
    "        # Write the response to the output file.\n",
    "        out.write(response.audio_content)\n",
    "        \n",
    "        return 'Audio content written to file \"output.mp3\"'"
   ]
  },
  {
   "cell_type": "code",
   "execution_count": 69,
   "metadata": {},
   "outputs": [
    {
     "name": "stdout",
     "output_type": "stream",
     "text": [
      "Audio content written to file \"output.mp3\"\n"
     ]
    }
   ],
   "source": [
    "print(text_to_speech(reply_message))"
   ]
  },
  {
   "cell_type": "code",
   "execution_count": null,
   "metadata": {},
   "outputs": [],
   "source": []
  }
 ],
 "metadata": {
  "kernelspec": {
   "display_name": "Python 3",
   "language": "python",
   "name": "python3"
  },
  "language_info": {
   "codemirror_mode": {
    "name": "ipython",
    "version": 3
   },
   "file_extension": ".py",
   "mimetype": "text/x-python",
   "name": "python",
   "nbconvert_exporter": "python",
   "pygments_lexer": "ipython3",
   "version": "3.7.4"
  }
 },
 "nbformat": 4,
 "nbformat_minor": 2
}
